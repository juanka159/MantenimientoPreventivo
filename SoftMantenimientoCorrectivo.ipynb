{
  "nbformat": 4,
  "nbformat_minor": 0,
  "metadata": {
    "colab": {
      "provenance": [],
      "authorship_tag": "ABX9TyMq3HUVxPHzuWkDR9yddLkS",
      "include_colab_link": true
    },
    "kernelspec": {
      "name": "python3",
      "display_name": "Python 3"
    },
    "language_info": {
      "name": "python"
    }
  },
  "cells": [
    {
      "cell_type": "markdown",
      "metadata": {
        "id": "view-in-github",
        "colab_type": "text"
      },
      "source": [
        "<a href=\"https://colab.research.google.com/github/juanka159/MantenimientoPreventivo/blob/main/SoftMantenimientoCorrectivo.ipynb\" target=\"_parent\"><img src=\"https://colab.research.google.com/assets/colab-badge.svg\" alt=\"Open In Colab\"/></a>"
      ]
    },
    {
      "cell_type": "markdown",
      "source": [
        "# Hola mundo"
      ],
      "metadata": {
        "id": "4uuW9_j6YOPG"
      }
    },
    {
      "cell_type": "markdown",
      "source": [
        "hola mundo cruel"
      ],
      "metadata": {
        "id": "ID9z41w_YaXM"
      }
    },
    {
      "cell_type": "markdown",
      "source": [],
      "metadata": {
        "id": "K15TLdBkYdh3"
      }
    }
  ]
}